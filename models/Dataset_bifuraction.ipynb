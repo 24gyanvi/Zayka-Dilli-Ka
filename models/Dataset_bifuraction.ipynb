{
  "cells": [
    {
      "cell_type": "code",
      "execution_count": null,
      "metadata": {
        "id": "u6h-mrzkyrak"
      },
      "outputs": [],
      "source": [
        "#Importing libraries\n",
        "import numpy as np\n",
        "import pandas as pd"
      ]
    },
    {
      "cell_type": "code",
      "execution_count": null,
      "metadata": {
        "colab": {
          "base_uri": "https://localhost:8080/",
          "height": 1000
        },
        "id": "d9DSwHQhzjA5",
        "outputId": "538cb224-6cac-4c0c-8b26-dfa9c3afc201"
      },
      "outputs": [],
      "source": [
        "#Reading the dataset\n",
        "restaurants = pd.read_csv('DelhiNCR Restaurants.csv')\n"
      ]
    },
    {
      "cell_type": "code",
      "execution_count": null,
      "metadata": {
        "colab": {
          "base_uri": "https://localhost:8080/"
        },
        "id": "hjDajUDL0cGu",
        "outputId": "0fd4d817-72be-4217-cde0-1108e4def2d1"
      },
      "outputs": [
        {
          "data": {
            "text/plain": [
              "Restaurant_Name          0\n",
              "Category                 0\n",
              "Pricing_for_2            0\n",
              "Locality                 0\n",
              "Dining_Rating            0\n",
              "Dining_Review_Count      0\n",
              "Website                  0\n",
              "Known_For2             405\n",
              "Known_For22            841\n",
              "dtype: int64"
            ]
          },
          "execution_count": 3,
          "metadata": {},
          "output_type": "execute_result"
        }
      ],
      "source": [
        "#To filter out the useful columns for my recommendation\n",
        "restaurants=restaurants[['Restaurant_Name','Category','Pricing_for_2','Locality','Dining_Rating','Dining_Review_Count','Website','Known_For2','Known_For22']]\n",
        "#To find the number of NULL values in each column\n",
        "restaurants.isnull().sum()"
      ]
    },
    {
      "cell_type": "code",
      "execution_count": null,
      "metadata": {
        "id": "wNIzuhoy0fk1"
      },
      "outputs": [],
      "source": [
        "lcfa_rest=restaurants"
      ]
    },
    {
      "cell_type": "code",
      "execution_count": null,
      "metadata": {
        "id": "y8Ph_qYC02si"
      },
      "outputs": [],
      "source": [
        "lcfa_rest=lcfa_rest.dropna(subset=['Known_For22'])"
      ]
    },
    {
      "cell_type": "code",
      "execution_count": null,
      "metadata": {
        "id": "qMA_ttfL2gT1"
      },
      "outputs": [],
      "source": [
        "lcfa_rest=lcfa_rest.reset_index()\n",
        "lcfa_rest = lcfa_rest.rename(columns={'index': 'old_index'})\n",
        "\n"
      ]
    },
    {
      "cell_type": "code",
      "execution_count": null,
      "metadata": {
        "id": "Wd7zc7A3_8Z9"
      },
      "outputs": [],
      "source": [
        "lcfa_rest.to_csv('lcfa_rest.csv')"
      ]
    }
  ],
  "metadata": {
    "colab": {
      "collapsed_sections": [],
      "name": "Dataset_bifuraction.ipynb",
      "provenance": []
    },
    "kernelspec": {
      "display_name": "Python 3",
      "name": "python3"
    },
    "language_info": {
      "name": "python"
    }
  },
  "nbformat": 4,
  "nbformat_minor": 0
}
